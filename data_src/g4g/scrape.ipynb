{
  "nbformat": 4,
  "nbformat_minor": 0,
  "metadata": {
    "colab": {
      "name": "scrape.ipynb",
      "provenance": [],
      "collapsed_sections": []
    },
    "kernelspec": {
      "name": "python3",
      "display_name": "Python 3"
    }
  },
  "cells": [
    {
      "cell_type": "code",
      "metadata": {
        "id": "RZENkcFGJa9B",
        "colab_type": "code",
        "colab": {
          "base_uri": "https://localhost:8080/",
          "height": 71
        },
        "outputId": "a1d57675-c916-41c1-91c7-1990d8ad3a10"
      },
      "source": [
        "import bs4 as bs\n",
        "import urllib.request\n",
        "\n",
        "test = []\n",
        "for i in range(1,6):\n",
        "    sauce = urllib.request.urlopen(\"https://www.geeksforgeeks.org/ibm-placement-paper-quantitative-analysis-set-\"+str(i)+\"/\").read()\n",
        "    soup = bs.BeautifulSoup(sauce,'lxml')\n",
        "    var = soup.find_all('ol')[0].find_all('li')\n",
        "    for x in var:\n",
        "        try:\n",
        "            thisQuestion = {'question':\"\",'options':[],'answer':\"\"}\n",
        "            st = x.find_all('strong')\n",
        "            if (len(st)!=0):\n",
        "                thisQuestion['question'] = x.find_all('strong')[0].getText()\n",
        "                optionsHtml = x.find_all('li')\n",
        "                options=[]\n",
        "                for t in optionsHtml:\n",
        "                    options.append(t.getText())   \n",
        "            thisQuestion['options'] = options  \n",
        "            thisQuestion['answer']=x.find('pre').find('b').getText()[2:-2]\n",
        "            thisQuestion['answer']=options.index(thisQuestion['answer'])\n",
        "            test.append(thisQuestion)\n",
        "        except:\n",
        "            continue\n",
        "\n",
        "print(len(test))\n",
        "print(test)"
      ],
      "execution_count": null,
      "outputs": [
        {
          "output_type": "stream",
          "text": [
            "70\n",
            "[{'question': 'Find the greatest number that will divide 355, 54 and 103 so as to leave the same remainder in each case', 'options': ['4', '7', '9', '13'], 'answer': 1}, {'question': 'Six bells commence tolling together and toll at intervals of 3, 6, 9, 12, 15 and 18 seconds respectively. In 60 minutes, how many times do they toll together ?', 'options': ['10', '20', '21', '25'], 'answer': 2}, {'question': 'The smallest 5 digit number exactly divisible by 11 is:', 'options': ['11121', '11011', '10010', '11000'], 'answer': 2}, {'question': 'What decimal of 10 hours is a minute?', 'options': ['0.025', '0.256', '0.0027', '0.00126'], 'answer': 2}, {'question': '‘A’ can do a work in 10 days and ‘B’ in 15 days. If they work on it together for 3 days, then the work that is left is :', 'options': ['10%', '20%', '40%', '50%'], 'answer': 3}, {'question': 'A pump can fill a tank with water in 1 hour. Because of a leak, it took 1.5 hours to fill the tank. The leak can drain all the water of the tank in:', 'options': ['2 hours', '2.5 hours', '3 hours', '3.5 hours'], 'answer': 2}, {'question': '2 pipes A and B can fill a tank in 20 minutes and 30 minutes respectively. Both pipes are opened. The tank will be filled in just 15 minutes, if the B is turned off after:', 'options': ['5 min', '6.5 min', '7 min', '7.5 min'], 'answer': 3}, {'question': 'Which is not the prime number?', 'options': ['43', '57', '73', '101'], 'answer': 1}, {'question': 'If the average of four consecutive odd numbers is 12, find the smallest of these numbers?', 'options': ['5', '7', '9', '11'], 'answer': 2}, {'question': 'Two numbers are in the ratio of 2:9. If their H. C. F. is 19, numbers are:', 'options': ['6, 27', '8, 36', '38, 171', '20, 90'], 'answer': 2}, {'question': 'A person employed a group of 20 men for a construction job. These 20 men working 8 hours a day can complete the job in 28 days. The work started on time but after 18 days, it was observed that two-thirds of the work was still pending. To avoid penalty and complete the work on time, the employer had to employ more men and also increase the working hours to 9 hours a day. Find the additional number of men employed if the efficiency of all men is the same.', 'options': ['40', '44', '64', '80'], 'answer': 1}, {'question': 'Two outlet pipes A and B are connected to a full tank. Pipe A alone can empty the tank in 10 minutes and pipe B alone can empty the tank in 30 minutes. If both are opened together, how much time will it take to empty the tank completely?', 'options': ['7 minutes', '7 minutes 30 seconds', '6 minutes', '6 minutes 30 seconds'], 'answer': 1}, {'question': 'Three pipes A, B and C are connected to a tank. Working alone, they require 10 hours, 20 hours and 30 hours respectively. After some time, A is closed and after another 2 hours, B is also closed. C works for another 14 hours so that the tank gets filled completely. Find the time (in hours) after which pipe A was closed.', 'options': ['1', '1.5', '2', '3'], 'answer': 2}, {'question': 'Two cars with speed of 15 kmph and 30 kmph respectively are 100 km apart and face each other. The distance between them 5 minutes before crossing is', 'options': ['2.75', '3.75', '4.75', '5.75'], 'answer': 1}, {'question': 'If the average of 5 consecutive even numbers is 10, find the middle number?', 'options': ['4', '8', '2', '10'], 'answer': 3}, {'question': ' Two numbers are in the ratio of 2:9. If their H. C. F. is 19, numbers are:', 'options': ['6, 27', '8, 36', '38, 171', '20, 90'], 'answer': 2}, {'question': 'Three friends started running together on a circular track at 8:00:00 am. Time taken by them to complete one round of the track is 15 min, 20 min, 30 min respectively. If they run continuously without any halts, then at what time will they meet again at the starting point for the fourth time ?', 'options': ['8:30:00 am', '9:00:00 pm', '12:00:00 pm', '12:00:00 am'], 'answer': 2}, {'question': 'Two pipes A and B attached to a swimming pool can fill the pool in 20 minutes and 30 minutes respectively working alone. Both were opened together but due to malfunctioning of motor of pipe A, it had to be shut down after two minutes but B continued to work till the swimming pool was filled completely. Find the total time taken to fill the pool.', 'options': ['20', '22', '25', '27'], 'answer': 3}, {'question': 'Samuel covers the distance from his home to his office at a speed of 25 km/hr and comes back at a speed of 4 km/hr. He completes the whole journey within 5 hours 48 minutes. Find out the distance from his home to office:', 'options': ['20 km', '18 km', '15 km', '25 km'], 'answer': 0}, {'question': 'A boatman takes 3 hours 45 minutes to travel 15 km downstream and takes 2 hours 30 minutes to travel 5 km upstream of a river. What is the speed of the stream of the river in km/h?', 'options': ['2 km/h', '1 km/h', '6 km/h', '4 km/h'], 'answer': 1}, {'question': 'John earns 33.33% more than Peter. By what percentage is Peter’s earning less than that of John’s?', 'options': ['22 %', '25 %', '26 %', '23 %'], 'answer': 1}, {'question': 'If the sum of two numbers is 13 and the sum of their square is 85. Find the numbers?', 'options': ['6, 7', '5, 8', '4, 9', '3, 10'], 'answer': 0}, {'question': 'HCF of two numbers is 11 and their LCM is 385. If the numbers do not differ by more than 50, what is the sum of the two numbers ?', 'options': ['132', '35', '12', '36'], 'answer': 0}, {'question': 'The LCM of two co-prime numbers is 117. What is the sum of squares of the numbers ?', 'options': ['220', '1530', '250', '22'], 'answer': 2}, {'question': 'Three pipes A, B and C were opened to fill a cistern. Working alone, A, B and C require 12, 15 and 20 minutes respectively. After 4 minutes of working together, A got blocked and after another 1 minute, B also got blocked. C continued to work till the end and the cistern got completely filled. What is the total time taken to fill the cistern ?', 'options': ['6 minutes', '6 minutes 15 seconds', '6 minutes 40 seconds', '6 minutes 50 seconds'], 'answer': 2}, {'question': 'If John walks at the speed of 5 km/h, he reaches his office 7 minutes late. However, if he walks at a speed of 6 km/h, he reaches his office 5 minutes early. How far is his office from his home?', 'options': ['9', '8', '10', '6'], 'answer': 3}, {'question': 'A speedboat runs 6 km upstream in a river and comes back to the starting point in 33 minutes. The stream of the river is running at 2 km/hr. What is the speed of speedboat in still water?', 'options': ['25 km/h', '21 km/h', '26 km/h', '22 km/h'], 'answer': 3}, {'question': 'Mary’s salary is reduced by 10%. By what percentage must her new salary be increased in order to gain her old salary?', 'options': ['137/9 % ', '194/9 % ', '100/9 % ', '110/9 % '], 'answer': 2}, {'question': 'The difference between a two-digit number and the number obtained by interchanging the positions of its digits is 45. What is the difference between the two digits of that number?', 'options': ['5', '7', '6', 'None of these'], 'answer': 0}, {'question': 'Two numbers are in the ratio of 5:7. If their LCM is 105, what is the difference between their squares ?', 'options': ['216', '210', '72', '840'], 'answer': 0}, {'question': 'Three people A, B and C working individually can finish a job in 10, 12 and 20 days respectively. They decided to work together but after 2 days, A left the work and after another one day, B also left work. If they got two lacs collectively for the entire work, find the difference of the highest and lowest share.', 'options': ['70000', '60000', '10000', '20000'], 'answer': 0}, {'question': 'Three pipes A, B and C are connected to a tank. Working alone, they require 10 hours, 20 hours and 30 hours respectively. After some time, A is closed and after another 2 hours, B is also closed. C works for another 14 hours so that the tank gets filled completely. Find the time (in hours) after which pipe A was closed.', 'options': ['1', '1.5', '2', '3'], 'answer': 2}, {'question': 'A policeman sees a thief at a distance of 100 meters and starts to chase him. The thief sees him and starts to run too. If the thief is running at the speed of 8 km/hr and the policeman is running at the speed of 10 km/hr, find out the distance covered by the thief before the policeman catches him.', 'options': ['250 meters', '400 meters', '450 meters', '350 meters'], 'answer': 1}, {'question': 'A boat runs at the speed of 13 km/h in still water. If the speed of the stream is 4 km/h, how much time will it take to go 68 km downstream?', 'options': ['5 h', '4 h', '6 h', '3 h'], 'answer': 1}, {'question': 'The price of sugar is decreased by 10%. As a consequence, monthly sales is increased by 30%. Find out the percentage increase in monthly revenue.', 'options': ['17 %', '19 %', '18 %', 'None of these'], 'answer': 0}, {'question': 'A two-digit number is such that the product of the digits is 12. When 9 is subtracted from the number, the digits are reversed. The number is:', 'options': ['34', '62', '43', '26'], 'answer': 2}, {'question': 'Which is the largest number that divides 17, 23, 35, 59 to leave the same remainder in each case ?', 'options': ['2', '3', '6', '12'], 'answer': 2}, {'question': 'Working alone, two pipes A and B require 9 hours and 6.25 hours more respectively to fill a pool than if they were working together. Find the total time taken to fill the pool if both were working together.', 'options': ['6', '6.5', '7', '7.5'], 'answer': 3}, {'question': 'Paul has to travel 24 km. After walking for 1 hour 40 minutes he sees that he has covered 5/7 of the distance left to cover. Find out Paul’s speed in meters per second.', 'options': ['5/3 m/s', '7/5 m/s', '2/3 m/s', '8/5 m/s'], 'answer': 0}, {'question': 'Peter’s speedboat run at a speed of 9 km/h in still water. He rows to a place at a distance of 105 km and comes back to the starting point. If the speed of the stream is 1.5 km/h, find out the time taken by Peter.', 'options': ['24 h', '21 h', '23 h', '22 h'], 'answer': 0}, {'question': 'Jack consumes 75% of his salary. Later his salary is increased by 20% and he increases his expenditures by 10%. Find the percentage increase in his savings.', 'options': ['51 %', '60 %', '50 %', '55 %'], 'answer': 2}, {'question': 'Find a positive number which when increased by 16 is equal to 80 times the reciprocal of the number', 'options': ['20', '-4', '-10', '4'], 'answer': 3}, {'question': 'The LCM. of two numbers is 30 and their HCF. is 15. If one of the numbers is 30, then what is the other number?', 'options': ['30', '25', '15', '20'], 'answer': 2}, {'question': 'Which of the following is the largest of all ?', 'options': ['7/8', '15/16', '23/24', '31/32'], 'answer': 3}, {'question': 'Three pipes A, B and C were opened to fill a cistern. Working alone, A, B and C require 12, 15 and 20 minutes respectively. Another pipe D, which is a waste pipe, can empty the filled tank in 30 minutes working alone. What is the total time (in minutes) taken to fill the cistern if all the pipes are simultaneously opened ?', 'options': ['5', '6', '7', '8'], 'answer': 1}, {'question': 'The ratio of the speed of two trains is 7:8. If the second train covers 400 km in 4 h, find out the speed of the first train.', 'options': ['69.4 km/h', '78.6 km/h', '87.5 km/h', '40.5 km/h'], 'answer': 2}, {'question': 'A motorboat crosses a certain distance in 1 hour and comes back in 1½ hours. If the stream is running at 3 km/h, find out the speed of motorboat in still water.', 'options': ['10 km/h', '15 km/h', '12 km/h', 'None of these'], 'answer': 1}, {'question': 'Barack spends Rs 6650 to buy some goods and gets a rebate of 6% on it. After this, he pays a sales tax of 10%. What is his total expenditure?', 'options': ['Rs 6870.10', 'Rs 6876.10', 'Rs 6865.10', 'Rs 6776.10'], 'answer': 1}, {'question': 'What is the sum of two consecutive odd numbers, the difference of whose squares is 56?', 'options': ['30', '28', '34', '32'], 'answer': 1}, {'question': 'Express 252 as a product of primes.', 'options': ['2 * 2 * 3 * 3 * 7', '3* 3 * 3 * 3 * 7', '2 * 2 * 2* 3 * 7', '2 * 3 * 3 * 3 * 7'], 'answer': 0}, {'question': 'Two numbers are in the ratio 3 : 5. If their L.C.M. is 75. what is sum of the numbers?', 'options': ['25', '45', '40', '50'], 'answer': 2}, {'question': 'M1 D1 H1 E1 / W1 = M2 D2 H2 E2 / W2', 'options': ['40', '44', '64', '80'], 'answer': 1}, {'question': 'Three pipes A, B and C were opened to fill a tank. Working alone, A, B and C require 10, 15 and 20 hours respectively. A was opened at 7 AM, B at 8 AM and C at 9 AM. At what time the tank would be completely filled, given that pipe C can only work for 3 hours at a stretch, and needs 1-hour standing time to work again.', 'options': ['12 : 00 PM', '12 : 30 PM', '1 : 00 PM', '1 : 30 PM'], 'answer': 1}, {'question': 'Rajdhani Express halts for 3 minutes every time it covers a distance of 75 km. If the train runs at a speed of 100 km/h and the destination is 600 km away from the source, find out the time taken to reach the destination station from the source station.', 'options': ['6 h 21 min', '6 h 22 min', '6 h 23 min', '6 h 24 min'], 'answer': 0}, {'question': 'A train crosses a pole in 20 sec. If the length of train is 500 meters, what is the speed of the train?', 'options': ['27 m/s', '20 m/s', '25 m/s', '30 m/s'], 'answer': 2}, {'question': 'Felix spends 66.66% of his salary and saves Rs 1200 every month. Calculate his monthly expenditure in Rupees.', 'options': ['Rs 2402', 'Rs 2400', 'Rs 2401', 'Rs 2405'], 'answer': 1}, {'question': 'Which of the following has the most number of divisors?', 'options': ['99', '101', '176', '182'], 'answer': 2}, {'question': 'Ratio of two numbers is 3:2. If LCM of numbers is 60, then smaller number is?', 'options': ['20', '30', '40', '50'], 'answer': 0}, {'question': '=> (Mi Ei) D1 H1 / W1 = (Mj Ej) D2 H2 / W2', 'options': ['19', '35', '34', '50'], 'answer': 2}, {'question': 'Two pipes A and B can fill a tank in 10 hours and 30 hours respectively. Due to a leak in the tank, it takes 2.5 hours more to fill the tank. How much time would the leak alone will take to empty the tank ?', 'options': ['20 hours', '25 hours', '30 hours', '35 hours'], 'answer': 2}, {'question': 'Max completes his journey at an average speed of 9 km/h. He covers the first 9 km at a speed of 6 km/h and he takes 1·5 hours to cover the remaining distance. Find out the speed at which he covered the remaining distance.', 'options': ['11 km/h', '12 km/h', '13 km/h', '14 km/h'], 'answer': 1}, {'question': 'A train crosses a pole in 10 sec. If the length of train is 100 meters, what is the speed of the train in Kmph?', 'options': ['34', '36', '30', '32'], 'answer': 1}, {'question': 'Jack and Robert appeared in an examination. Robert scored 9 marks less than Jack. Jack’s score was 56% of the sum of their scores added together. Calculate their individual scores.', 'options': ['22 and 33', '41 and 35', '40 and 35', '42 and 33'], 'answer': 3}, {'question': 'The average of 21 results is 20. Average of 1st 10 of them is 24 that of last 10 is 14. the result of 11’th is :', 'options': ['42', '44', '46', '40'], 'answer': 3}, {'question': 'A perfect number n is a number which is equal to the sum of its divisors. Which of the following is a perfect number?', 'options': ['6', '9', '15', '21'], 'answer': 1}, {'question': 'Three numbers are in the ratio of 2 : 3 : 4 and their L.C.M. is 240. Their H.C.F. is:', 'options': ['40', '20', '30', '10'], 'answer': 1}, {'question': '=> (Mi Ei) D1 H1 / W1 =(Mj Ej) D2 H2 / W2', 'options': ['1100', '1340', '1300', '1140'], 'answer': 3}, {'question': 'TwPeter and Beckon start to walk in the same direction together. If Peter’s speed is 5 km/h and Beckon’s speed is 6 km/h, find out the time duration after which they are 17 km apart.', 'options': ['15', '17', '19', '20'], 'answer': 1}, {'question': 'A train is running at a speed of 100Kmph. A car is running on road parallel to the train’s track at a speed of 20 Kmph in the same direction as of train. How much time will it take to cross the car if the length of the train is 100 meters?', 'options': ['5 sec', '4 sec', '5.5 sec', '4.5 sec'], 'answer': 3}, {'question': 'Ram spends 20% of is salary on food, 15 % of remaining on cloths, and 400 on entertainment. If his salary is 10000, how much he spends on food?', 'options': ['2000', '3000', '1500', '2500'], 'answer': 0}]\n"
          ],
          "name": "stdout"
        }
      ]
    },
    {
      "cell_type": "code",
      "metadata": {
        "id": "iAHMfCTZMkJD",
        "colab_type": "code",
        "colab": {
          "base_uri": "https://localhost:8080/",
          "height": 204
        },
        "outputId": "3e140263-62c2-4b08-8a31-000f4fc4a683"
      },
      "source": [
        "import pandas as pd\n",
        "\n",
        "qt = {\"QUE\": [], \"OPT\": [], \"ANS\": []}\n",
        "for t in test:\n",
        "    qt[\"QUE\"].append(t['question'])\n",
        "    qt[\"OPT\"].append(t['options'])\n",
        "    qt[\"ANS\"].append(t['answer'])\n",
        "quants = pd.DataFrame(data = qt)\n",
        "quants.head()"
      ],
      "execution_count": null,
      "outputs": [
        {
          "output_type": "execute_result",
          "data": {
            "text/html": [
              "<div>\n",
              "<style scoped>\n",
              "    .dataframe tbody tr th:only-of-type {\n",
              "        vertical-align: middle;\n",
              "    }\n",
              "\n",
              "    .dataframe tbody tr th {\n",
              "        vertical-align: top;\n",
              "    }\n",
              "\n",
              "    .dataframe thead th {\n",
              "        text-align: right;\n",
              "    }\n",
              "</style>\n",
              "<table border=\"1\" class=\"dataframe\">\n",
              "  <thead>\n",
              "    <tr style=\"text-align: right;\">\n",
              "      <th></th>\n",
              "      <th>QUE</th>\n",
              "      <th>OPT</th>\n",
              "      <th>ANS</th>\n",
              "    </tr>\n",
              "  </thead>\n",
              "  <tbody>\n",
              "    <tr>\n",
              "      <th>0</th>\n",
              "      <td>Find the greatest number that will divide 355,...</td>\n",
              "      <td>[4, 7, 9, 13]</td>\n",
              "      <td>1</td>\n",
              "    </tr>\n",
              "    <tr>\n",
              "      <th>1</th>\n",
              "      <td>Six bells commence tolling together and toll a...</td>\n",
              "      <td>[10, 20, 21, 25]</td>\n",
              "      <td>2</td>\n",
              "    </tr>\n",
              "    <tr>\n",
              "      <th>2</th>\n",
              "      <td>The smallest 5 digit number exactly divisible ...</td>\n",
              "      <td>[11121, 11011, 10010, 11000]</td>\n",
              "      <td>2</td>\n",
              "    </tr>\n",
              "    <tr>\n",
              "      <th>3</th>\n",
              "      <td>What decimal of 10 hours is a minute?</td>\n",
              "      <td>[0.025, 0.256, 0.0027, 0.00126]</td>\n",
              "      <td>2</td>\n",
              "    </tr>\n",
              "    <tr>\n",
              "      <th>4</th>\n",
              "      <td>‘A’ can do a work in 10 days and ‘B’ in 15 day...</td>\n",
              "      <td>[10%, 20%, 40%, 50%]</td>\n",
              "      <td>3</td>\n",
              "    </tr>\n",
              "  </tbody>\n",
              "</table>\n",
              "</div>"
            ],
            "text/plain": [
              "                                                 QUE  ... ANS\n",
              "0  Find the greatest number that will divide 355,...  ...   1\n",
              "1  Six bells commence tolling together and toll a...  ...   2\n",
              "2  The smallest 5 digit number exactly divisible ...  ...   2\n",
              "3              What decimal of 10 hours is a minute?  ...   2\n",
              "4  ‘A’ can do a work in 10 days and ‘B’ in 15 day...  ...   3\n",
              "\n",
              "[5 rows x 3 columns]"
            ]
          },
          "metadata": {
            "tags": []
          },
          "execution_count": 12
        }
      ]
    },
    {
      "cell_type": "code",
      "metadata": {
        "id": "9U7snbQXM00_",
        "colab_type": "code",
        "colab": {
          "base_uri": "https://localhost:8080/",
          "height": 204
        },
        "outputId": "2f44d088-78ba-4d9f-ccb6-b1b84a92b54f"
      },
      "source": [
        "import pandas as pd\n",
        "\n",
        "logix = pd.read_csv('logix.csv', index_col=0)\n",
        "_OPT = []\n",
        "for i in logix.OPT.values:\n",
        "    _OPT.append(i.split(\", \"))\n",
        "logix['OPT'] = _OPT\n",
        "logix.head()"
      ],
      "execution_count": 5,
      "outputs": [
        {
          "output_type": "execute_result",
          "data": {
            "text/html": [
              "<div>\n",
              "<style scoped>\n",
              "    .dataframe tbody tr th:only-of-type {\n",
              "        vertical-align: middle;\n",
              "    }\n",
              "\n",
              "    .dataframe tbody tr th {\n",
              "        vertical-align: top;\n",
              "    }\n",
              "\n",
              "    .dataframe thead th {\n",
              "        text-align: right;\n",
              "    }\n",
              "</style>\n",
              "<table border=\"1\" class=\"dataframe\">\n",
              "  <thead>\n",
              "    <tr style=\"text-align: right;\">\n",
              "      <th></th>\n",
              "      <th>QUE</th>\n",
              "      <th>OPT</th>\n",
              "      <th>ANS</th>\n",
              "    </tr>\n",
              "  </thead>\n",
              "  <tbody>\n",
              "    <tr>\n",
              "      <th>0</th>\n",
              "      <td>What will be the next number: 3, 5, 7, 11, 13,...</td>\n",
              "      <td>[21, 19, 25, 20]</td>\n",
              "      <td>1</td>\n",
              "    </tr>\n",
              "    <tr>\n",
              "      <th>1</th>\n",
              "      <td>Find wrong number in series: 12, 25, 49, 99, 1...</td>\n",
              "      <td>[789, 187, 99, 49]</td>\n",
              "      <td>1</td>\n",
              "    </tr>\n",
              "    <tr>\n",
              "      <th>2</th>\n",
              "      <td>Find wrong number in series: 34, 7, 37, 14, 36...</td>\n",
              "      <td>[14, 36, 28, 56]</td>\n",
              "      <td>1</td>\n",
              "    </tr>\n",
              "    <tr>\n",
              "      <th>3</th>\n",
              "      <td>Find wrong number in series: 8, 24, 12, 36, 18...</td>\n",
              "      <td>[12, 24, 18, 26]</td>\n",
              "      <td>3</td>\n",
              "    </tr>\n",
              "    <tr>\n",
              "      <th>4</th>\n",
              "      <td>Find wrong number in series: 7, 26, 63, 124, 2...</td>\n",
              "      <td>[763, 215, 496]</td>\n",
              "      <td>2</td>\n",
              "    </tr>\n",
              "  </tbody>\n",
              "</table>\n",
              "</div>"
            ],
            "text/plain": [
              "                                                 QUE                 OPT  ANS\n",
              "0  What will be the next number: 3, 5, 7, 11, 13,...    [21, 19, 25, 20]    1\n",
              "1  Find wrong number in series: 12, 25, 49, 99, 1...  [789, 187, 99, 49]    1\n",
              "2  Find wrong number in series: 34, 7, 37, 14, 36...    [14, 36, 28, 56]    1\n",
              "3  Find wrong number in series: 8, 24, 12, 36, 18...    [12, 24, 18, 26]    3\n",
              "4  Find wrong number in series: 7, 26, 63, 124, 2...     [763, 215, 496]    2"
            ]
          },
          "metadata": {
            "tags": []
          },
          "execution_count": 5
        }
      ]
    },
    {
      "cell_type": "code",
      "metadata": {
        "id": "B5vgxMHYN3nI",
        "colab_type": "code",
        "colab": {
          "base_uri": "https://localhost:8080/",
          "height": 204
        },
        "outputId": "ee08534b-b66c-45cc-9240-614f098070d4"
      },
      "source": [
        "import pandas as pd\n",
        "\n",
        "verbs = pd.read_csv('verbs.csv', index_col=0)\n",
        "_OPT = []\n",
        "for i in verbs.OPT.values:\n",
        "    _OPT.append(i.split(\", \"))\n",
        "verbs['OPT'] = _OPT\n",
        "verbs.head()"
      ],
      "execution_count": 6,
      "outputs": [
        {
          "output_type": "execute_result",
          "data": {
            "text/html": [
              "<div>\n",
              "<style scoped>\n",
              "    .dataframe tbody tr th:only-of-type {\n",
              "        vertical-align: middle;\n",
              "    }\n",
              "\n",
              "    .dataframe tbody tr th {\n",
              "        vertical-align: top;\n",
              "    }\n",
              "\n",
              "    .dataframe thead th {\n",
              "        text-align: right;\n",
              "    }\n",
              "</style>\n",
              "<table border=\"1\" class=\"dataframe\">\n",
              "  <thead>\n",
              "    <tr style=\"text-align: right;\">\n",
              "      <th></th>\n",
              "      <th>QUE</th>\n",
              "      <th>OPT</th>\n",
              "      <th>ANS</th>\n",
              "    </tr>\n",
              "  </thead>\n",
              "  <tbody>\n",
              "    <tr>\n",
              "      <th>0</th>\n",
              "      <td>Which one of the following options is the clos...</td>\n",
              "      <td>[Highest, Lowest, Medium, Integration]</td>\n",
              "      <td>1</td>\n",
              "    </tr>\n",
              "    <tr>\n",
              "      <th>1</th>\n",
              "      <td>Complete the sentence: Universalism is to part...</td>\n",
              "      <td>[specificity, neutrality, generality, adaptation]</td>\n",
              "      <td>0</td>\n",
              "    </tr>\n",
              "    <tr>\n",
              "      <th>2</th>\n",
              "      <td>Were you a bird, you ______________ in the sky</td>\n",
              "      <td>[would fly, shall fly, should fly, shall have ...</td>\n",
              "      <td>0</td>\n",
              "    </tr>\n",
              "    <tr>\n",
              "      <th>3</th>\n",
              "      <td>Choose the grammatically INCORRECT sentence:</td>\n",
              "      <td>[He is of Asian origin, They belonged to Afric...</td>\n",
              "      <td>2</td>\n",
              "    </tr>\n",
              "    <tr>\n",
              "      <th>4</th>\n",
              "      <td>After several defeats in wars, Robert Bruce we...</td>\n",
              "      <td>[Failure is the pillar of success, Honesty is ...</td>\n",
              "      <td>3</td>\n",
              "    </tr>\n",
              "  </tbody>\n",
              "</table>\n",
              "</div>"
            ],
            "text/plain": [
              "                                                 QUE  ... ANS\n",
              "0  Which one of the following options is the clos...  ...   1\n",
              "1  Complete the sentence: Universalism is to part...  ...   0\n",
              "2     Were you a bird, you ______________ in the sky  ...   0\n",
              "3       Choose the grammatically INCORRECT sentence:  ...   2\n",
              "4  After several defeats in wars, Robert Bruce we...  ...   3\n",
              "\n",
              "[5 rows x 3 columns]"
            ]
          },
          "metadata": {
            "tags": []
          },
          "execution_count": 6
        }
      ]
    },
    {
      "cell_type": "code",
      "metadata": {
        "id": "vlr0CGBdWZ-w",
        "colab_type": "code",
        "colab": {
          "base_uri": "https://localhost:8080/",
          "height": 204
        },
        "outputId": "1a6afc99-110f-49ff-b959-ce019a0275dc"
      },
      "source": [
        "import pandas as pd\n",
        "\n",
        "quants = pd.read_csv('quants.csv', index_col=0)\n",
        "# _OPT = []\n",
        "# for i in quants.OPT.values:\n",
        "#     _OPT.append(i.split(\", \"))\n",
        "# quants['OPT'] = _OPT\n",
        "quants.head()"
      ],
      "execution_count": 8,
      "outputs": [
        {
          "output_type": "execute_result",
          "data": {
            "text/html": [
              "<div>\n",
              "<style scoped>\n",
              "    .dataframe tbody tr th:only-of-type {\n",
              "        vertical-align: middle;\n",
              "    }\n",
              "\n",
              "    .dataframe tbody tr th {\n",
              "        vertical-align: top;\n",
              "    }\n",
              "\n",
              "    .dataframe thead th {\n",
              "        text-align: right;\n",
              "    }\n",
              "</style>\n",
              "<table border=\"1\" class=\"dataframe\">\n",
              "  <thead>\n",
              "    <tr style=\"text-align: right;\">\n",
              "      <th></th>\n",
              "      <th>QUE</th>\n",
              "      <th>OPT</th>\n",
              "      <th>ANS</th>\n",
              "    </tr>\n",
              "  </thead>\n",
              "  <tbody>\n",
              "    <tr>\n",
              "      <th>0</th>\n",
              "      <td>Find the greatest number that will divide 355,...</td>\n",
              "      <td>['4', '7', '9', '13']</td>\n",
              "      <td>1</td>\n",
              "    </tr>\n",
              "    <tr>\n",
              "      <th>1</th>\n",
              "      <td>Six bells commence tolling together and toll a...</td>\n",
              "      <td>['10', '20', '21', '25']</td>\n",
              "      <td>2</td>\n",
              "    </tr>\n",
              "    <tr>\n",
              "      <th>2</th>\n",
              "      <td>The smallest 5 digit number exactly divisible ...</td>\n",
              "      <td>['11121', '11011', '10010', '11000']</td>\n",
              "      <td>2</td>\n",
              "    </tr>\n",
              "    <tr>\n",
              "      <th>3</th>\n",
              "      <td>What decimal of 10 hours is a minute?</td>\n",
              "      <td>['0.025', '0.256', '0.0027', '0.00126']</td>\n",
              "      <td>2</td>\n",
              "    </tr>\n",
              "    <tr>\n",
              "      <th>4</th>\n",
              "      <td>‘A’ can do a work in 10 days and ‘B’ in 15 day...</td>\n",
              "      <td>['10%', '20%', '40%', '50%']</td>\n",
              "      <td>3</td>\n",
              "    </tr>\n",
              "  </tbody>\n",
              "</table>\n",
              "</div>"
            ],
            "text/plain": [
              "                                                 QUE  ... ANS\n",
              "0  Find the greatest number that will divide 355,...  ...   1\n",
              "1  Six bells commence tolling together and toll a...  ...   2\n",
              "2  The smallest 5 digit number exactly divisible ...  ...   2\n",
              "3              What decimal of 10 hours is a minute?  ...   2\n",
              "4  ‘A’ can do a work in 10 days and ‘B’ in 15 day...  ...   3\n",
              "\n",
              "[5 rows x 3 columns]"
            ]
          },
          "metadata": {
            "tags": []
          },
          "execution_count": 8
        }
      ]
    },
    {
      "cell_type": "code",
      "metadata": {
        "id": "a8NX_6mEPUts",
        "colab_type": "code",
        "colab": {}
      },
      "source": [
        "quants.to_csv(\"quants.csv\")\n",
        "logix.to_csv(\"logix.csv\")\n",
        "verbs.to_csv(\"verbs.csv\")"
      ],
      "execution_count": 9,
      "outputs": []
    },
    {
      "cell_type": "code",
      "metadata": {
        "id": "evXdL2AUPip1",
        "colab_type": "code",
        "colab": {}
      },
      "source": [
        ""
      ],
      "execution_count": null,
      "outputs": []
    }
  ]
}